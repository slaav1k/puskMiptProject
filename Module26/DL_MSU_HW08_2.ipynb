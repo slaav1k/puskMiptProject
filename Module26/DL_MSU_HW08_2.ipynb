{
 "cells": [
  {
   "cell_type": "markdown",
   "metadata": {
    "id": "jNtLJlW4v5VF"
   },
   "source": [
    "## Домашнее задание №8\n",
    "\n",
    "В данном задании вам предстоит детально рассмотреть механизм Attention (и реализовать несколько его вариантов), а также вернуться к задаче классификации текстов из задания №6 и решить ее с использованием BERT."
   ]
  },
  {
   "cell_type": "code",
   "execution_count": 4,
   "metadata": {
    "id": "puOIr5xs4-_5"
   },
   "outputs": [],
   "source": [
    "import os\n",
    "import random\n",
    "\n",
    "import numpy as np\n",
    "import pandas as pd\n",
    "\n",
    "from sklearn.metrics import roc_auc_score, roc_curve, accuracy_score\n",
    "\n",
    "import torch\n",
    "import torch.nn as nn\n",
    "import torch.nn.functional as F\n",
    "\n",
    "import matplotlib.pyplot as plt\n",
    "from IPython.display import clear_output \n",
    "%matplotlib inline"
   ]
  },
  {
   "cell_type": "markdown",
   "metadata": {
    "id": "9SfxedMT4-__"
   },
   "source": [
    "### Задание №1. Реализация Attention\n",
    "\n",
    "В данной задаче вам предстоит реализовать механизм Attention, в частности несколько способов подсчета attention scores. Конечно, в популярных фреймворках данный механизм уже реализован, но для лучшего понимания вам предстоит реализовать его с помощью `numpy`.\n",
    "\n",
    "Ваше задание в данной задаче: реализовать `additive` (аддитивный) и `multiplicative` (мультипликативный) варианты Attention. Для вашего удобства (и для примера) `dot product` attention (основанный на скалярном произведении) уже реализован.\n",
    "\n",
    "Детальное описание данных типов Attention доступно в лекционных слайдах."
   ]
  },
  {
   "cell_type": "code",
   "execution_count": 5,
   "metadata": {},
   "outputs": [
    {
     "data": {
      "text/plain": [
       "Text(0.5, 1.0, 'Decoder state')"
      ]
     },
     "execution_count": 5,
     "metadata": {},
     "output_type": "execute_result"
    },
    {
     "data": {
      "image/png": "[encoded data removed]",
      "text/plain": [
       "<Figure size 200x500 with 2 Axes>"
      ]
     },
     "metadata": {},
     "output_type": "display_data"
    }
   ],
   "source": [
    "decoder_hidden_state = np.array([7, 11, 4]).astype(float)[:, None]\n",
    "\n",
    "plt.figure(figsize=(2, 5))\n",
    "plt.pcolormesh(decoder_hidden_state)\n",
    "plt.colorbar()\n",
    "plt.title('Decoder state')"
   ]
  },
  {
   "cell_type": "markdown",
   "metadata": {},
   "source": [
    "#### Dot product attention (пример реализации)\n",
    "Рассмотрим единственное состояние энкодера – вектор с размерностью `(n_hidden, 1)`, где `n_hidden = 3`:"
   ]
  },
  {
   "cell_type": "code",
   "execution_count": 6,
   "metadata": {},
   "outputs": [
    {
     "data": {
      "text/plain": [
       "<matplotlib.colorbar.Colorbar at 0x1d0a00e8fd0>"
      ]
     },
     "execution_count": 6,
     "metadata": {},
     "output_type": "execute_result"
    },
    {
     "data": {
      "image/png": "[encoded data removed]",
      "text/plain": [
       "<Figure size 200x500 with 2 Axes>"
      ]
     },
     "metadata": {},
     "output_type": "display_data"
    }
   ],
   "source": [
    "single_encoder_hidden_state = np.array([1, 5, 11]).astype(float)[:, None]\n",
    "\n",
    "plt.figure(figsize=(2, 5))\n",
    "plt.pcolormesh(single_encoder_hidden_state)\n",
    "plt.colorbar()"
   ]
  },
  {
   "cell_type": "markdown",
   "metadata": {},
   "source": [
    "Attention score между данными состояниями энкодера и декодера вычисляются просто как скалярное произведение:"
   ]
  },
  {
   "cell_type": "code",
   "execution_count": 7,
   "metadata": {},
   "outputs": [
    {
     "data": {
      "text/plain": [
       "array([[106.]])"
      ]
     },
     "execution_count": 7,
     "metadata": {},
     "output_type": "execute_result"
    }
   ],
   "source": [
    "np.dot(decoder_hidden_state.T, single_encoder_hidden_state)"
   ]
  },
  {
   "cell_type": "markdown",
   "metadata": {},
   "source": [
    "В общем случае состояний энкодера, конечно, несколько. Attention scores вычисляются с каждым из состояний энкодера:"
   ]
  },
  {
   "cell_type": "code",
   "execution_count": 8,
   "metadata": {},
   "outputs": [
    {
     "data": {
      "text/plain": [
       "array([[ 1.,  7.,  8., -9.],\n",
       "       [ 5.,  4., 12.,  0.],\n",
       "       [11.,  1.,  2.,  1.]])"
      ]
     },
     "execution_count": 8,
     "metadata": {},
     "output_type": "execute_result"
    }
   ],
   "source": [
    "encoder_hidden_states = np.array([\n",
    "    [1, 5, 11],\n",
    "    [7, 4, 1],\n",
    "    [8, 12, 2],\n",
    "    [-9, 0, 1]\n",
    "]).astype(float).T\n",
    "\n",
    "encoder_hidden_states"
   ]
  },
  {
   "cell_type": "markdown",
   "metadata": {},
   "source": [
    "Тогда для подсчета скалярных произведений между единственным состоянием декодера и всеми состояниями энкодера можно воспользоваться следующей функцией (которая по факту представляет собой просто матричное умножение и приведение типов):"
   ]
  },
  {
   "cell_type": "code",
   "execution_count": 9,
   "metadata": {},
   "outputs": [],
   "source": [
    "def dot_product_attention_score(decoder_hidden_state, encoder_hidden_states):\n",
    "    '''\n",
    "    decoder_hidden_state: np.array of shape (n_features, 1)\n",
    "    encoder_hidden_states: np.array of shape (n_features, n_states)\n",
    "    \n",
    "    return: np.array of shape (1, n_states)\n",
    "        Array with dot product attention scores\n",
    "    '''\n",
    "    attention_scores = np.dot(decoder_hidden_state.T, encoder_hidden_states)\n",
    "    return attention_scores"
   ]
  },
  {
   "cell_type": "code",
   "execution_count": 10,
   "metadata": {},
   "outputs": [
    {
     "data": {
      "text/plain": [
       "array([[106.,  97., 196., -59.]])"
      ]
     },
     "execution_count": 10,
     "metadata": {},
     "output_type": "execute_result"
    }
   ],
   "source": [
    "dot_product_attention_score(decoder_hidden_state, encoder_hidden_states)"
   ]
  },
  {
   "cell_type": "markdown",
   "metadata": {},
   "source": [
    "Для подсчета \"весов\" нам необходим Softmax:"
   ]
  },
  {
   "cell_type": "code",
   "execution_count": 11,
   "metadata": {},
   "outputs": [],
   "source": [
    "def softmax(vector):\n",
    "    '''\n",
    "    vector: np.array of shape (n, m)\n",
    "    \n",
    "    return: np.array of shape (n, m)\n",
    "        Matrix where softmax is computed for every row independently\n",
    "    '''\n",
    "    nice_vector = vector - vector.max()\n",
    "    exp_vector = np.exp(nice_vector)\n",
    "    exp_denominator = np.sum(exp_vector, axis=1)[:, np.newaxis]\n",
    "    softmax_ = exp_vector / exp_denominator\n",
    "    return softmax_"
   ]
  },
  {
   "cell_type": "code",
   "execution_count": 12,
   "metadata": {},
   "outputs": [
    {
     "data": {
      "text/plain": [
       "array([[8.19401262e-040, 1.01122149e-043, 1.00000000e+000,\n",
       "        1.79848622e-111]])"
      ]
     },
     "execution_count": 12,
     "metadata": {},
     "output_type": "execute_result"
    }
   ],
   "source": [
    "weights_vector = softmax(dot_product_attention_score(decoder_hidden_state, encoder_hidden_states))\n",
    "\n",
    "weights_vector"
   ]
  },
  {
   "cell_type": "markdown",
   "metadata": {},
   "source": [
    "Наконец, воспользуемся данными весами и вычислим итоговый вектор, как и описано для dot product attention."
   ]
  },
  {
   "cell_type": "code",
   "execution_count": 13,
   "metadata": {},
   "outputs": [
    {
     "name": "stdout",
     "output_type": "stream",
     "text": [
      "[[ 8.]\n",
      " [12.]\n",
      " [ 2.]]\n"
     ]
    },
    {
     "data": {
      "text/plain": [
       "<matplotlib.colorbar.Colorbar at 0x1d0a0119410>"
      ]
     },
     "execution_count": 13,
     "metadata": {},
     "output_type": "execute_result"
    },
    {
     "data": {
      "image/png": "[encoded data removed]",
      "text/plain": [
       "<Figure size 200x500 with 2 Axes>"
      ]
     },
     "metadata": {},
     "output_type": "display_data"
    }
   ],
   "source": [
    "attention_vector = weights_vector.dot(encoder_hidden_states.T).T\n",
    "print(attention_vector)\n",
    "\n",
    "plt.figure(figsize=(2, 5))\n",
    "plt.pcolormesh(attention_vector, cmap='spring')\n",
    "plt.colorbar()"
   ]
  },
  {
   "cell_type": "markdown",
   "metadata": {},
   "source": [
    "Данный вектор аккумулирует в себе информацию из всех состояний энкодера, взвешенную на основе близости к заданному состоянию декодера.\n",
    "\n",
    "Реализуем все вышеописанные преобразования в единой функции:"
   ]
  },
  {
   "cell_type": "code",
   "execution_count": 14,
   "metadata": {},
   "outputs": [],
   "source": [
    "def dot_product_attention(decoder_hidden_state, encoder_hidden_states):\n",
    "    '''\n",
    "    decoder_hidden_state: np.array of shape (n_features, 1)\n",
    "    encoder_hidden_states: np.array of shape (n_features, n_states)\n",
    "    \n",
    "    return: np.array of shape (n_features, 1)\n",
    "        Final attention vector\n",
    "    '''\n",
    "    softmax_vector = softmax(dot_product_attention_score(decoder_hidden_state, encoder_hidden_states))\n",
    "    attention_vector = softmax_vector.dot(encoder_hidden_states.T).T\n",
    "    return attention_vector"
   ]
  },
  {
   "cell_type": "code",
   "execution_count": 15,
   "metadata": {},
   "outputs": [],
   "source": [
    "assert (attention_vector == dot_product_attention(decoder_hidden_state, encoder_hidden_states)).all()"
   ]
  },
  {
   "cell_type": "markdown",
   "metadata": {},
   "source": [
    "#### Multiplicative attention\n",
    "Ваша текущая задача: реализовать multiplicative attention.\n",
    "$$ e_i = \\mathbf{s}^TW_{mult}\\mathbf{h}_i $$\n",
    "\n",
    "Матрица весов `W_mult` задана ниже. \n",
    "Стоит заметить, что multiplicative attention позволяет работать с состояниями энкодера и декодера различных размерностей, поэтому состояния энкодера будут обновлены:"
   ]
  },
  {
   "cell_type": "code",
   "execution_count": 16,
   "metadata": {},
   "outputs": [],
   "source": [
    "encoder_hidden_states_complex = np.array([\n",
    "    [1, 5, 11, 4, -4],\n",
    "    [7, 4, 1, 2, 2],\n",
    "    [8, 12, 2, 11, 5],\n",
    "    [-9, 0, 1, 8, 12]\n",
    "]).astype(float).T\n",
    "\n",
    "W_mult = np.array([\n",
    "    [-0.78, -0.97, -1.09, -1.79,  0.24],\n",
    "    [ 0.04, -0.27, -0.98, -0.49,  0.52],\n",
    "    [ 1.08,  0.91, -0.99,  2.04, -0.15]\n",
    "])"
   ]
  },
  {
   "cell_type": "code",
   "execution_count": 17,
   "metadata": {},
   "outputs": [
    {
     "name": "stdout",
     "output_type": "stream",
     "text": [
      "Multiplicative attention vector:\n",
      " [[-9.00000000e+00]\n",
      " [ 1.01553049e-19]\n",
      " [ 1.00000000e+00]\n",
      " [ 8.00000000e+00]\n",
      " [ 1.20000000e+01]]\n"
     ]
    }
   ],
   "source": [
    "def multiplicative_attention(decoder_hidden_state, encoder_hidden_states, W_mult):\n",
    "    '''\n",
    "    decoder_hidden_state: np.array of shape (n_features_dec, 1)\n",
    "    encoder_hidden_states: np.array of shape (n_features_enc, n_states)\n",
    "    W_mult: np.array of shape (n_features_dec, n_features_enc)\n",
    "    \n",
    "    return: np.array of shape (n_features_enc, 1)\n",
    "        Final attention vector\n",
    "    '''\n",
    "    # s^T * W_mult: (1, n_features_dec) * (n_features_dec, n_features_enc) -> (1, n_features_enc)\n",
    "    weighted_decoder = np.dot(decoder_hidden_state.T, W_mult)\n",
    "    # (1, n_features_enc) * (n_features_enc, n_states) -> (1, n_states)\n",
    "    attention_scores = np.dot(weighted_decoder, encoder_hidden_states)\n",
    "    # Softmax для весов\n",
    "    softmax_weights = softmax(attention_scores)\n",
    "    # (1, n_states) * (n_states, n_features_enc) -> (1, n_features_enc), транспонируем\n",
    "    attention_vector = np.dot(softmax_weights, encoder_hidden_states.T).T\n",
    "    return attention_vector\n",
    "\n",
    "# Тест\n",
    "multi_vector = multiplicative_attention(decoder_hidden_state, encoder_hidden_states_complex, W_mult)\n",
    "print(\"Multiplicative attention vector:\\n\", multi_vector)"
   ]
  },
  {
   "cell_type": "markdown",
   "metadata": {},
   "source": [
    "#### Additive attention\n",
    "Теперь вам предстоит реализовать additive attention.\n",
    "\n",
    "$$ e_i = \\mathbf{v}^T \\text{tanh} (W_{add-enc} \\mathbf{h}_i + W_{add-dec} \\mathbf{s}) $$\n",
    "\n",
    "Матрицы весов `W_add_enc` и `W_add_dec` доступны ниже, как и вектор весов `v_add`. Для вычисления активации можно воспользоваться `np.tanh`."
   ]
  },
  {
   "cell_type": "code",
   "execution_count": 18,
   "metadata": {},
   "outputs": [],
   "source": [
    "v_add = np.array([[-0.35, -0.58,  0.07,  1.39, -0.79, -1.78, -0.35]]).T\n",
    "\n",
    "W_add_enc = np.array([\n",
    "    [-1.34, -0.1 , -0.38,  0.12, -0.34],\n",
    "    [-1.  ,  1.28,  0.49, -0.41, -0.32],\n",
    "    [-0.39, -1.38,  1.26,  1.21,  0.15],\n",
    "    [-0.18,  0.04,  1.36, -1.18, -0.53],\n",
    "    [-0.23,  0.96,  1.02,  0.39, -1.26],\n",
    "    [-1.27,  0.89, -0.85, -0.01, -1.19],\n",
    "    [ 0.46, -0.12, -0.86, -0.93, -0.4 ]\n",
    "])\n",
    "\n",
    "W_add_dec = np.array([\n",
    "    [-1.62, -0.02, -0.39],\n",
    "    [ 0.43,  0.61, -0.23],\n",
    "    [-1.5 , -0.43, -0.91],\n",
    "    [-0.14,  0.03,  0.05],\n",
    "    [ 0.85,  0.51,  0.63],\n",
    "    [ 0.39, -0.42,  1.34],\n",
    "    [-0.47, -0.31, -1.34]\n",
    "])"
   ]
  },
  {
   "cell_type": "code",
   "execution_count": 19,
   "metadata": {},
   "outputs": [
    {
     "name": "stdout",
     "output_type": "stream",
     "text": [
      "Additive attention vector:\n",
      " [[4.64510711]\n",
      " [6.6372749 ]\n",
      " [3.11601386]\n",
      " [6.2104178 ]\n",
      " [3.06285127]]\n"
     ]
    }
   ],
   "source": [
    "def additive_attention(decoder_hidden_state, encoder_hidden_states, v_add, W_add_enc, W_add_dec):\n",
    "    '''\n",
    "    decoder_hidden_state: np.array of shape (n_features_dec, 1)\n",
    "    encoder_hidden_states: np.array of shape (n_features_enc, n_states)\n",
    "    v_add: np.array of shape (n_features_int, 1)\n",
    "    W_add_enc: np.array of shape (n_features_int, n_features_enc)\n",
    "    W_add_dec: np.array of shape (n_features_int, n_features_dec)\n",
    "    \n",
    "    return: np.array of shape (n_features_enc, 1)\n",
    "        Final attention vector\n",
    "    '''\n",
    "    # W_add_enc * h_i: (n_features_int, n_features_enc) * (n_features_enc, n_states) -> (n_features_int, n_states)\n",
    "    enc_transformed = np.dot(W_add_enc, encoder_hidden_states)\n",
    "    # W_add_dec * s: (n_features_int, n_features_dec) * (n_features_dec, 1) -> (n_features_int, 1)\n",
    "    dec_transformed = np.dot(W_add_dec, decoder_hidden_state)\n",
    "    # Сумма с broadcasting\n",
    "    combined = enc_transformed + dec_transformed\n",
    "    # Tanh\n",
    "    tanh_combined = np.tanh(combined)\n",
    "    # v^T * tanh: (1, n_features_int) * (n_features_int, n_states) -> (1, n_states)\n",
    "    attention_scores = np.dot(v_add.T, tanh_combined)\n",
    "    # Softmax\n",
    "    softmax_weights = softmax(attention_scores)\n",
    "    # (1, n_states) * (n_states, n_features_enc) -> (1, n_features_enc), транспонируем\n",
    "    attention_vector = np.dot(softmax_weights, encoder_hidden_states.T).T\n",
    "    return attention_vector\n",
    "\n",
    "# Тест\n",
    "add_vector = additive_attention(decoder_hidden_state, encoder_hidden_states_complex, v_add, W_add_enc, W_add_dec)\n",
    "print(\"Additive attention vector:\\n\", add_vector)"
   ]
  },
  {
   "cell_type": "markdown",
   "metadata": {},
   "source": [
    "Сдайте функции `multiplicative_attention` и `additive_attention` в контест.\n",
    "\n",
    "Не забудьте про импорт `numpy`!"
   ]
  },
  {
   "cell_type": "code",
   "execution_count": 20,
   "metadata": {},
   "outputs": [
    {
     "name": "stdout",
     "output_type": "stream",
     "text": [
      "File 'attention.py' saved for contest submission.\n"
     ]
    }
   ],
   "source": [
    "# Сохранение функций для контеста\n",
    "with open('attention.py', 'w') as f:\n",
    "    f.write('''\n",
    "import numpy as np\n",
    "\n",
    "def softmax(vector):\n",
    "    nice_vector = vector - vector.max()\n",
    "    exp_vector = np.exp(nice_vector)\n",
    "    exp_denominator = np.sum(exp_vector, axis=1)[:, np.newaxis]\n",
    "    softmax_ = exp_vector / exp_denominator\n",
    "    return softmax_\n",
    "\n",
    "def multiplicative_attention(decoder_hidden_state, encoder_hidden_states, W_mult):\n",
    "    weighted_decoder = np.dot(decoder_hidden_state.T, W_mult)\n",
    "    attention_scores = np.dot(weighted_decoder, encoder_hidden_states)\n",
    "    softmax_weights = softmax(attention_scores)\n",
    "    attention_vector = np.dot(softmax_weights, encoder_hidden_states.T).T\n",
    "    return attention_vector\n",
    "\n",
    "def additive_attention(decoder_hidden_state, encoder_hidden_states, v_add, W_add_enc, W_add_dec):\n",
    "    enc_transformed = np.dot(W_add_enc, encoder_hidden_states)\n",
    "    dec_transformed = np.dot(W_add_dec, decoder_hidden_state)\n",
    "    combined = enc_transformed + dec_transformed\n",
    "    tanh_combined = np.tanh(combined)\n",
    "    attention_scores = np.dot(v_add.T, tanh_combined)\n",
    "    softmax_weights = softmax(attention_scores)\n",
    "    attention_vector = np.dot(softmax_weights, encoder_hidden_states.T).T\n",
    "    return attention_vector\n",
    "''')\n",
    "print(\"File 'attention.py' saved for contest submission.\")"
   ]
  },
  {
   "cell_type": "markdown",
   "metadata": {
    "id": "9SfxedMT4-__"
   },
   "source": [
    "### Задание №2 (опциональное). Классификация текстов с использованием предобученной языковой модели.\n",
    "\n",
    "Вновь вернемся к набору данных SST-2. Разобьем выборку на train и test аналогично заданию №6."
   ]
  },
  {
   "cell_type": "code",
   "execution_count": 21,
   "metadata": {
    "colab": {
     "base_uri": "https://localhost:8080/"
    },
    "id": "Gar9LXdc4-__",
    "outputId": "06e4bd3d-bdc7-4a87-80ee-67295c183516"
   },
   "outputs": [
    {
     "name": "stdout",
     "output_type": "stream",
     "text": [
      "File 'holdout_texts08.npy' downloaded successfully.\n"
     ]
    }
   ],
   "source": [
    "# Загрузка holdout-выборки\n",
    "import requests\n",
    "import os\n",
    "\n",
    "url = 'https://github.com/MSUcourses/Data-Analysis-with-Python/raw/main/Deep%20Learning/holdout_texts08.npy'\n",
    "response = requests.get(url)\n",
    "if response.status_code == 200:\n",
    "    with open('holdout_texts08.npy', 'wb') as f:\n",
    "        f.write(response.content)\n",
    "    print(\"File 'holdout_texts08.npy' downloaded successfully.\")\n",
    "else:\n",
    "    raise Exception(f\"Failed to download holdout_texts08.npy. Status code: {response.status_code}\")"
   ]
  },
  {
   "cell_type": "code",
   "execution_count": 22,
   "metadata": {
    "colab": {
     "base_uri": "https://localhost:8080/"
    },
    "id": "SlSrPx951Lxn",
    "outputId": "efeeaccb-3108-4206-a49f-27afa0ef8903"
   },
   "outputs": [
    {
     "data": {
      "text/plain": [
       "array(['gee , a second assassin shot kennedy ?',\n",
       "       \"from the big giant titles of the opening credits to elmer bernstein 's perfectly melodic score , haynes gets just about everything right\",\n",
       "       'the movie is well shot and very tragic , and one to ponder after the credits roll',\n",
       "       'the movie quickly drags on becoming boring and predictable',\n",
       "       \"a mixed bag of a comedy that ca n't really be described as out of this world\"],\n",
       "      dtype=object)"
      ]
     },
     "execution_count": 22,
     "metadata": {},
     "output_type": "execute_result"
    }
   ],
   "source": [
    "# Загрузка данных\n",
    "df = pd.read_csv(\n",
    "    'https://raw.githubusercontent.com/MSUcourses/Data-Analysis-with-Python/main/Deep%20Learning/Files/STT2_train_task08.tsv',\n",
    "    delimiter='\\t',\n",
    "    header=None\n",
    ")\n",
    "texts_train = df[0].values[:5000]\n",
    "y_train = df[1].values[:5000]\n",
    "texts_test = df[0].values[5000:]\n",
    "y_test = df[1].values[5000:]\n",
    "texts_holdout = np.load('holdout_texts08.npy', allow_pickle=True)\n",
    "texts_holdout[:5]"
   ]
  },
  {
   "cell_type": "markdown",
   "metadata": {
    "id": "Tu73hCSQ4-__"
   },
   "source": [
    "Весь остальной код предстоит написать вам.\n",
    "\n",
    "Для успешной сдачи на максимальный балл необходимо добиться хотя бы __84.5% accuracy на тестовой части выборки__."
   ]
  },
  {
   "cell_type": "code",
   "execution_count": null,
   "metadata": {
    "colab": {
     "base_uri": "https://localhost:8080/"
    },
    "id": "024vQ3Cu6yKt",
    "outputId": "55d7e6f1-d441-4613-8f9f-853cfc8b3c67"
   },
   "outputs": [
    {
     "data": {
      "application/vnd.jupyter.widget-view+json": {
       "model_id": "5672be85ca1c426684507f3addee1de4",
       "version_major": 2,
       "version_minor": 0
      },
      "text/plain": [
       "tokenizer_config.json:   0%|          | 0.00/48.0 [00:00<?, ?B/s]"
      ]
     },
     "metadata": {},
     "output_type": "display_data"
    },
    {
     "name": "stderr",
     "output_type": "stream",
     "text": [
      "C:\\Users\\arkhi\\anaconda3\\Lib\\site-packages\\huggingface_hub\\file_download.py:144: UserWarning: `huggingface_hub` cache-system uses symlinks by default to efficiently store duplicated files but your machine does not support them in C:\\Users\\arkhi\\.cache\\huggingface\\hub\\models--bert-base-uncased. Caching files will still work but in a degraded version that might require more space on your disk. This warning can be disabled by setting the `HF_HUB_DISABLE_SYMLINKS_WARNING` environment variable. For more details, see https://huggingface.co/docs/huggingface_hub/how-to-cache#limitations.\n",
      "To support symlinks on Windows, you either need to activate Developer Mode or to run Python as an administrator. In order to activate developer mode, see this article: https://docs.microsoft.com/en-us/windows/apps/get-started/enable-your-device-for-development\n",
      "  warnings.warn(message)\n"
     ]
    },
    {
     "data": {
      "application/vnd.jupyter.widget-view+json": {
       "model_id": "c872f2567e3c48fcbe753331ad0d410f",
       "version_major": 2,
       "version_minor": 0
      },
      "text/plain": [
       "vocab.txt:   0%|          | 0.00/232k [00:00<?, ?B/s]"
      ]
     },
     "metadata": {},
     "output_type": "display_data"
    },
    {
     "data": {
      "application/vnd.jupyter.widget-view+json": {
       "model_id": "849bb5225af24882bfca6763aec0f6ba",
       "version_major": 2,
       "version_minor": 0
      },
      "text/plain": [
       "tokenizer.json:   0%|          | 0.00/466k [00:00<?, ?B/s]"
      ]
     },
     "metadata": {},
     "output_type": "display_data"
    },
    {
     "data": {
      "application/vnd.jupyter.widget-view+json": {
       "model_id": "befc8a680e2e44d184bdab70ed3d7258",
       "version_major": 2,
       "version_minor": 0
      },
      "text/plain": [
       "config.json:   0%|          | 0.00/570 [00:00<?, ?B/s]"
      ]
     },
     "metadata": {},
     "output_type": "display_data"
    },
    {
     "name": "stderr",
     "output_type": "stream",
     "text": [
      "Xet Storage is enabled for this repo, but the 'hf_xet' package is not installed. Falling back to regular HTTP download. For better performance, install the package with: `pip install huggingface_hub[hf_xet]` or `pip install hf_xet`\n"
     ]
    },
    {
     "data": {
      "application/vnd.jupyter.widget-view+json": {
       "model_id": "c6fea653d12f47ed976d8c83fc7ced94",
       "version_major": 2,
       "version_minor": 0
      },
      "text/plain": [
       "model.safetensors:   0%|          | 0.00/440M [00:00<?, ?B/s]"
      ]
     },
     "metadata": {},
     "output_type": "display_data"
    },
    {
     "name": "stderr",
     "output_type": "stream",
     "text": [
      "Some weights of BertForSequenceClassification were not initialized from the model checkpoint at bert-base-uncased and are newly initialized: ['classifier.bias', 'classifier.weight']\n",
      "You should probably TRAIN this model on a down-stream task to be able to use it for predictions and inference.\n",
      "C:\\Users\\arkhi\\anaconda3\\Lib\\site-packages\\transformers\\optimization.py:591: FutureWarning: This implementation of AdamW is deprecated and will be removed in a future version. Use the PyTorch implementation torch.optim.AdamW instead, or set `no_deprecation_warning=True` to disable this warning\n",
      "  warnings.warn(\n"
     ]
    }
   ],
   "source": [
    "# Установка библиотеки transformers\n",
    "!pip install -q transformers\n",
    "\n",
    "from transformers import BertTokenizer, BertForSequenceClassification, AdamW, get_linear_schedule_with_warmup\n",
    "from torch.utils.data import TensorDataset, DataLoader, RandomSampler, SequentialSampler\n",
    "\n",
    "# Токенизация текстов\n",
    "tokenizer = BertTokenizer.from_pretrained('bert-base-uncased')\n",
    "\n",
    "def tokenize_texts(texts, max_len=128):\n",
    "    input_ids, attention_masks = [], []\n",
    "\n",
    "    for text in texts:\n",
    "        encoded_dict = tokenizer.encode_plus(\n",
    "            str(text),\n",
    "            add_special_tokens=True,\n",
    "            max_length=max_len,\n",
    "            padding='max_length',\n",
    "            return_attention_mask=True,\n",
    "            return_tensors='pt',\n",
    "            truncation=True\n",
    "        )\n",
    "\n",
    "        input_ids.append(encoded_dict['input_ids'])\n",
    "        attention_masks.append(encoded_dict['attention_mask'])\n",
    "\n",
    "    input_ids = torch.cat(input_ids, dim=0)\n",
    "    attention_masks = torch.cat(attention_masks, dim=0)\n",
    "\n",
    "    return input_ids, attention_masks\n",
    "\n",
    "input_ids_train, attention_masks_train = tokenize_texts(texts_train)\n",
    "input_ids_test, attention_masks_test = tokenize_texts(texts_test)\n",
    "input_ids_holdout, attention_masks_holdout = tokenize_texts(texts_holdout)\n",
    "\n",
    "# Создание датасетов и загрузчиков данных\n",
    "batch_size = 8\n",
    "\n",
    "train_data = TensorDataset(input_ids_train, attention_masks_train, torch.tensor(y_train, dtype=torch.long))\n",
    "train_sampler = RandomSampler(train_data)\n",
    "train_dataloader = DataLoader(train_data, sampler=train_sampler, batch_size=batch_size)\n",
    "\n",
    "test_data = TensorDataset(input_ids_test, attention_masks_test, torch.tensor(y_test, dtype=torch.long))\n",
    "test_sampler = SequentialSampler(test_data)\n",
    "test_dataloader = DataLoader(test_data, sampler=test_sampler, batch_size=batch_size)\n",
    "\n",
    "holdout_data = TensorDataset(input_ids_holdout, attention_masks_holdout)\n",
    "holdout_sampler = SequentialSampler(holdout_data)\n",
    "holdout_dataloader = DataLoader(holdout_data, sampler=holdout_sampler, batch_size=batch_size)\n",
    "\n",
    "# Инициализация модели\n",
    "model = BertForSequenceClassification.from_pretrained('bert-base-uncased', num_labels=2)\n",
    "device = torch.device('cuda' if torch.cuda.is_available() else 'cpu')\n",
    "model.to(device)\n",
    "\n",
    "# Оптимизатор и планировщик\n",
    "optimizer = AdamW(model.parameters(), lr=2e-5, eps=1e-8)\n",
    "epochs = 3\n",
    "total_steps = len(train_dataloader) * epochs\n",
    "scheduler = get_linear_schedule_with_warmup(optimizer, num_warmup_steps=0, num_training_steps=total_steps)\n",
    "\n",
    "# Функция обучения\n",
    "def train_epoch():\n",
    "    model.train()\n",
    "    total_train_loss = 0\n",
    "    total_train_correct = 0\n",
    "    total_train_samples = 0\n",
    "\n",
    "    for batch in train_dataloader:\n",
    "        input_ids = batch[0].to(device)\n",
    "        attention_masks = batch[1].to(device)\n",
    "        labels = batch[2].to(device)\n",
    "\n",
    "        model.zero_grad()\n",
    "        outputs = model(input_ids, attention_mask=attention_masks, labels=labels)\n",
    "        loss = outputs.loss\n",
    "        logits = outputs.logits\n",
    "\n",
    "        total_train_loss += loss.item()\n",
    "        preds = torch.argmax(logits, dim=1)\n",
    "        total_train_correct += (preds == labels).sum().item()\n",
    "        total_train_samples += labels.size(0)\n",
    "\n",
    "        loss.backward()\n",
    "        torch.nn.utils.clip_grad_norm_(model.parameters(), 1.0)\n",
    "        optimizer.step()\n",
    "        scheduler.step()\n",
    "\n",
    "    avg_train_loss = total_train_loss / len(train_dataloader)\n",
    "    avg_train_accuracy = total_train_correct / total_train_samples\n",
    "\n",
    "    return avg_train_loss, avg_train_accuracy\n",
    "\n",
    "# Обучение модели\n",
    "for epoch in range(epochs):\n",
    "    train_loss, train_accuracy = train_epoch()\n",
    "    clear_output(wait=True)\n",
    "    print(f\"Epoch {epoch + 1}/{epochs}, Loss: {train_loss:.4f}, Train Accuracy: {train_accuracy:.4f}\")\n",
    "\n",
    "# Оценка модели\n",
    "def evaluate(model, dataloader, has_labels=True):\n",
    "    model.eval()\n",
    "    probas = []\n",
    "    total_correct = 0\n",
    "    total_samples = 0\n",
    "\n",
    "    for batch in dataloader:\n",
    "        input_ids = batch[0].to(device)\n",
    "        attention_masks = batch[1].to(device)\n",
    "\n",
    "        with torch.no_grad():\n",
    "            outputs = model(input_ids, attention_mask=attention_masks)\n",
    "            logits = outputs.logits\n",
    "            probs = F.softmax(logits, dim=1).cpu().numpy()\n",
    "            probas.append(probs)\n",
    "\n",
    "            if has_labels:\n",
    "                labels = batch[2].to(device)\n",
    "                preds = torch.argmax(logits, dim=1)\n",
    "                total_correct += (preds == labels).sum().item()\n",
    "                total_samples += labels.size(0)\n",
    "\n",
    "    probas = np.concatenate(probas, axis=0)\n",
    "    accuracy = total_correct / total_samples if has_labels else None\n",
    "    return probas, accuracy\n",
    "\n",
    "# Получение предсказаний\n",
    "train_probas, train_accuracy = evaluate(model, train_dataloader)\n",
    "test_probas, test_accuracy = evaluate(model, test_dataloader)\n",
    "holdout_probas, _ = evaluate(model, holdout_dataloader, has_labels=False)\n",
    "\n",
    "print(f\"Train accuracy: {train_accuracy:.4f}\")\n",
    "print(f\"Test accuracy: {test_accuracy:.4f}\")"
   ]
  },
  {
   "cell_type": "markdown",
   "metadata": {
    "id": "HqZjx0pF4-__"
   },
   "source": [
    "#### Сдача задания в контест\n",
    "Сохраните в словарь `out_dict` вероятности принадлежности к нулевому и первому классу соответственно:"
   ]
  },
  {
   "cell_type": "code",
   "execution_count": null,
   "metadata": {
    "id": "YBmeirTH4-__"
   },
   "outputs": [],
   "source": [
    "out_dict = {\n",
    "    'train': train_probas,\n",
    "    'test': test_probas,\n",
    "    'holdout': holdout_probas,\n",
    "}"
   ]
  },
  {
   "cell_type": "markdown",
   "metadata": {
    "id": "gk2gndCN4-__"
   },
   "source": [
    "Несколько `assert`'ов для проверки вашей посылки:"
   ]
  },
  {
   "cell_type": "code",
   "execution_count": null,
   "metadata": {
    "id": "XGUi9p_14-__"
   },
   "outputs": [],
   "source": [
    "assert isinstance(out_dict['train'], np.ndarray), 'Dict values should be numpy arrays'\n",
    "assert out_dict['train'].shape == (5000, 2), 'The predicted probas shape does not match the train set size'\n",
    "assert np.allclose(out_dict['train'].sum(axis=1), 1.), 'Probas do not sum up to 1 for some of the objects'\n",
    "\n",
    "assert isinstance(out_dict['test'], np.ndarray), 'Dict values should be numpy arrays'\n",
    "assert out_dict['test'].shape == (1920, 2), 'The predicted probas shape does not match the test set size'\n",
    "assert np.allclose(out_dict['test'].sum(axis=1), 1.), 'Probas do not sum up to 1 for some of the object'\n",
    "\n",
    "assert isinstance(out_dict['holdout'], np.ndarray), 'Dict values should be numpy arrays'\n",
    "assert out_dict['holdout'].shape == (500, 2), 'The predicted probas shape does not match the holdout set size'\n",
    "assert np.allclose(out_dict['holdout'].sum(axis=1), 1.), 'Probas do not sum up to 1 for some of the object'"
   ]
  },
  {
   "cell_type": "markdown",
   "metadata": {
    "id": "Ann49yp64-__"
   },
   "source": [
    "Запустите код ниже для генерации посылки и сдайте файл `submission_dict_hw08.npy`."
   ]
  },
  {
   "cell_type": "code",
   "execution_count": null,
   "metadata": {
    "colab": {
     "base_uri": "https://localhost:8080/"
    },
    "id": "TQTs8S2p4_AA",
    "outputId": "0ab4698f-57e9-42e7-af4c-de5e6f7f3750"
   },
   "outputs": [],
   "source": [
    "# do not change the code in the block below\n",
    "# __________start of block__________\n",
    "\n",
    "np.save('submission_dict_hw08.npy', out_dict, allow_pickle=True)\n",
    "print('File saved to `submission_dict_hw08.npy`')\n",
    "# __________end of block__________"
   ]
  },
  {
   "cell_type": "markdown",
   "metadata": {
    "id": "3hIF-ntR4_AA"
   },
   "source": [
    "На этом задание завершено. Поздравляем!"
   ]
  }
 ],
 "metadata": {
  "accelerator": "GPU",
  "colab": {
   "provenance": []
  },
  "gpuClass": "standard",
  "kernelspec": {
   "display_name": "Python 3 (ipykernel)",
   "language": "python",
   "name": "python3"
  },
  "language_info": {
   "codemirror_mode": {
    "name": "ipython",
    "version": 3
   },
   "file_extension": ".py",
   "mimetype": "text/x-python",
   "name": "python",
   "nbconvert_exporter": "python",
   "pygments_lexer": "ipython3",
   "version": "3.11.7"
  }
 },
 "nbformat": 4,
 "nbformat_minor": 4
}
