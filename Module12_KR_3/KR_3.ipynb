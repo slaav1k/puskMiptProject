{
 "cells": [
  {
   "cell_type": "markdown",
   "id": "ea38d608-810a-4539-b460-f1f23f917611",
   "metadata": {},
   "source": [
    "<h2> 1. Прогнозирование с помощью линейной регрессии </h2>\r\n",
    "В этом задании вам требуется обучить алгоритм линейной регрессии с помощью библиотеки sklearn. \r\n",
    "\r\n",
    "Алгоритм линейной регрессии позволяет предсказывать значения зависимой переменной (y)\r\n",
    " на основе независимых переменных (x0,x1,x2)\r\n",
    ". Модель линейной регрессии имеет вид: \r\n",
    "\r\n",
    "y=a∗x0+b∗x1+c∗x2+d\r\n",
    ",\r\n",
    "\r\n",
    "где a,b,c,d\r\n",
    " — коэффициенты линейной регрессии, которые нужно получить в результате обучения модели. \r\n",
    "\r\n",
    "После обучения модели необходимо спрогнозировать значение зависимой переменной на основе новых входных данных. \r\n",
    "\r\n",
    "Результат сохраните в numpy-массив (ndarray) в формате:\r\n",
    "\r\n",
    "answer: ndarrray([a,b,c,y_pred])"
   ]
  },
  {
   "cell_type": "code",
   "execution_count": 3,
   "id": "c25986eb-e735-455a-a79e-a1408ee74b93",
   "metadata": {},
   "outputs": [
    {
     "data": {
      "text/plain": [
       "array([ 1.,  2.,  3., 37.])"
      ]
     },
     "execution_count": 3,
     "metadata": {},
     "output_type": "execute_result"
    }
   ],
   "source": [
    "import numpy as np\n",
    "from sklearn.linear_model import LinearRegression\n",
    "\n",
    "#Данные для обучения\n",
    "X = np.array([[1, 1, 1], [1, 2, 2], [2, 2, 3], [2, 3, 5]])\n",
    "\n",
    "#Значения функции\n",
    "y = np.array([9, 14, 18, 26])\n",
    "\n",
    "#Значение переменных для прогноза функции y_pred\n",
    "X_pred = np.array([[3, 5, 7]])\n",
    "\n",
    "#Далее запишите ваш код\n",
    "model = LinearRegression()\n",
    "model.fit(X, y)\n",
    "\n",
    "coefficients = model.coef_\n",
    "y_pred = model.predict(X_pred)\n",
    "\n",
    "answer = np.array([*coefficients, y_pred[0]])\n",
    "answer\n"
   ]
  },
  {
   "cell_type": "markdown",
   "id": "e38a2ae7-543a-47e3-a183-dff554f8ba7d",
   "metadata": {},
   "source": [
    "<h2> 2. Прогнозирование с помощью логистической регрессии </h2>\r\n",
    "Необходимо обучить модель классификации с использованием логистической регрессии. Для этого вам предоставлены данные X_train и y_train, где X_train — набор признаков, а y_train — целевая переменная.\r\n",
    "\r\n",
    "После обучения модели спрогнозируйте значения целевой переменной для тестовых данных x_test. Полученные предсказанные значения сохраните в переменную y_pred в виде массива."
   ]
  },
  {
   "cell_type": "code",
   "execution_count": 4,
   "id": "0e045010-5b72-44ab-881e-f9d3616d5a5c",
   "metadata": {},
   "outputs": [
    {
     "data": {
      "text/plain": [
       "array([1, 1])"
      ]
     },
     "execution_count": 4,
     "metadata": {},
     "output_type": "execute_result"
    }
   ],
   "source": [
    "#Здесь будет выполнена генерация данных для модели\n",
    "#Данный код будет автоматически выполнен при запуске вашей программы\n",
    "\n",
    "from sklearn.model_selection import train_test_split\n",
    "from sklearn.linear_model import LogisticRegression\n",
    "\n",
    "X = np.array([[1, 2], [2, 3], [3, 4], [4, 5], [5, 6], [6, 7], [7, 8], [8, 9]])\n",
    "y = np.array([0, 0, 0, 1, 1, 1, 1, 1])\n",
    "\n",
    "x_train, x_test, y_train, y_test = train_test_split(X, y, test_size=0.25, random_state=0)\n",
    "\n",
    "#Далее запишите ваш код\n",
    "model = LogisticRegression(random_state=0)\n",
    "model.fit(x_train, y_train)\n",
    "\n",
    "y_pred = model.predict(x_test)\n",
    "\n",
    "y_pred"
   ]
  },
  {
   "cell_type": "markdown",
   "id": "aed1d8b7-f37e-4f6b-b93c-6048dfbb5c24",
   "metadata": {},
   "source": [
    "<h2> 3. Определение оптимального числа кластеров методом K-means</h2>\r\n",
    "Предлагаем выполнить это задание самостоятельно в собственном созданном Python-ноутбуке. В LMS требуется ввести лишь результаты выполнения задания.\r\n",
    "\r\n",
    "Напишите программу, которая определит оптимальное количество кластеров в датасете Electric_Car.csv методом K-means.\r\n",
    "\r\n",
    "Для этого необходимо выполнить следующие шаги:\r\n",
    "\r\n",
    "1. Загрузить датасет и оставить в Dataframe только столбцы \"AccelSec\", \"TopSpeed_KmH\", \"Range_Km\", \"PriceEuro\", удалив остальные.\r\n",
    "\r\n",
    "2. Выбрать подходящее количество кластеров для разделения данных. Для этого можно использовать метод локтя. Он заключается в запуске алгоритма K-means с разным количеством кластеров и в выборе такого числа кластеров, при котором кривая cуммы квадратов внутрикластерных расстояний до центра кластера имеет характерный изгиб.\r\n",
    "\r\n",
    "3. Реализовать алгоритм K-means с выбранным количеством кластеров. Для параметра random_state укажите значение 0.\r\n",
    "\r\n",
    "4. Провести кластеризацию данных. Вычислить координаты центров кластеров с помощью атрибута cluster_centers_ и норму полученного вектора с помощью функции linalg.norm из библиотеки NumPy с точностью до третьего знака.\r\n",
    "\r\n",
    "\r\n",
    "\r\n",
    "Вопрос 1. Запишите в поле ввода ответа рассчитанное количество кластеров, полученное при решении задачи (ответ запишите в виде числа, например, 123).\r\n",
    "\r\n",
    "\r\n",
    "\r\n",
    "Вопрос 2. Вычислите координаты центров кластеров и норму полученного вектора. В поле ввода запишите результат рассчитанной нормы, округлив значение до трех знаков после запятой. В качестве разделителя дробной и целой части используйте символ точки \".\" (например, 1.234)."
   ]
  },
  {
   "cell_type": "code",
   "execution_count": 7,
   "id": "27fb405c-ea33-4fcf-85e1-5ad4b04faa27",
   "metadata": {},
   "outputs": [
    {
     "name": "stdout",
     "output_type": "stream",
     "text": [
      "   AccelSec  TopSpeed_KmH  Range_Km  PriceEuro\n",
      "0       4.6           233       450      55480\n",
      "1      10.0           160       270      30000\n",
      "2       4.7           210       400      56440\n",
      "3       6.8           180       360      68040\n",
      "4       9.5           145       170      32997\n"
     ]
    },
    {
     "data": {
      "image/png": "[encoded data removed]",
      "text/plain": [
       "<Figure size 640x480 with 1 Axes>"
      ]
     },
     "metadata": {},
     "output_type": "display_data"
    }
   ],
   "source": [
    "import pandas as pd\n",
    "import matplotlib.pyplot as plt\n",
    "from sklearn.cluster import KMeans\n",
    "\n",
    "\n",
    "df = pd.read_csv('Electric_Car.csv')\n",
    "df = df[['AccelSec', 'TopSpeed_KmH', 'Range_Km', 'PriceEuro']]\n",
    "print(df.head())\n",
    "# print(df.info())\n",
    "inertia = []\n",
    "for k in range(1, 11):  # Пробуем от 1 до 10 кластеров\n",
    "    kmeans = KMeans(n_clusters=k, random_state=0)\n",
    "    kmeans.fit(df)\n",
    "    inertia.append(kmeans.inertia_)\n",
    "\n",
    "# Построение графика\n",
    "plt.plot(range(1, 11), inertia, marker='o')\n",
    "plt.title('Метод локтя')\n",
    "plt.xlabel('Количество кластеров')\n",
    "plt.ylabel('Инерция')\n",
    "plt.show()"
   ]
  },
  {
   "cell_type": "code",
   "execution_count": 12,
   "id": "67d942c6-c2f4-4c5b-9ded-de3cde8f1338",
   "metadata": {},
   "outputs": [
    {
     "name": "stdout",
     "output_type": "stream",
     "text": [
      "Норма вектора центров кластеров: [35853.888002199135, 197891.926256486, 116308.13772834408, 65050.92534581778]\n",
      "Координаты центров кластеров: [[9.01967213e+00 1.54327869e+02 2.78196721e+02 3.58524754e+04]\n",
      " [2.45000000e+00 3.35000000e+02 6.72500000e+02 1.97890500e+05]\n",
      " [4.11818182e+00 2.34636364e+02 4.34090909e+02 1.16307091e+05]\n",
      " [5.56551724e+00 1.99724138e+02 4.07068966e+02 6.50493448e+04]]\n",
      "241259.03413667093\n"
     ]
    }
   ],
   "source": [
    "from numpy import linalg\n",
    "\n",
    "\n",
    "optimal_k = 4\n",
    "kmeans = KMeans(n_clusters=optimal_k, random_state=0)\n",
    "kmeans.fit(df)\n",
    "\n",
    "centroids = kmeans.cluster_centers_\n",
    "norms = [linalg.norm(centroid) for centroid in centroids]\n",
    "print(f'Норма вектора центров кластеров: {norms}')\n",
    "print('Координаты центров кластеров:', centroids)\n",
    "print(linalg.norm(centroids))"
   ]
  },
  {
   "cell_type": "code",
   "execution_count": 44,
   "id": "35775c9d-7b5b-41ce-b39e-0973616f0209",
   "metadata": {},
   "outputs": [
    {
     "name": "stdout",
     "output_type": "stream",
     "text": [
      "Норма вектора центров кластеров: [35853.888002199135, 197891.926256486, 116308.13772834408, 65050.92534581778]\n",
      "Координаты центров кластеров: [[9.01967213e+00 1.54327869e+02 2.78196721e+02 3.58524754e+04]\n",
      " [2.45000000e+00 3.35000000e+02 6.72500000e+02 1.97890500e+05]\n",
      " [4.11818182e+00 2.34636364e+02 4.34090909e+02 1.16307091e+05]\n",
      " [5.56551724e+00 1.99724138e+02 4.07068966e+02 6.50493448e+04]]\n",
      "241259.03413667093\n",
      "Норма полученного вектора: 241259.034\n",
      "Сумма норм всех центров кластеров: 415104.877\n"
     ]
    }
   ],
   "source": [
    "import numpy as np\n",
    "from sklearn.cluster import KMeans\n",
    "from numpy import linalg\n",
    "\n",
    "\n",
    "optimal_k = 4 \n",
    "kmeans = KMeans(n_clusters=optimal_k, random_state=0)\n",
    "kmeans.fit(df)  # Обучаем модель на данных\n",
    "\n",
    "centroids = kmeans.cluster_centers_  \n",
    "norms = [linalg.norm(centroid) for centroid in centroids]\n",
    "\n",
    "# Выводим результаты\n",
    "print(f'Норма вектора центров кластеров: {norms}')\n",
    "print('Координаты центров кластеров:', centroids)\n",
    "\n",
    "# Преобразуем центры кластеров в одномерный вектор\n",
    "centroids_flat = centroids.flatten()\n",
    "print(linalg.norm(centroids))\n",
    "\n",
    "# Рассчитываем норму этого вектора\n",
    "norm_of_centroids_vector = linalg.norm(centroids_flat)\n",
    "\n",
    "print(f'Норма полученного вектора: {norm_of_centroids_vector:.3f}')\n",
    "\n",
    "sum_norms = sum(norms)\n",
    "print(f'Сумма норм всех центров кластеров: {sum_norms:.3f}')"
   ]
  },
  {
   "cell_type": "markdown",
   "id": "4d7aee2c-1e97-4ae7-bf69-eba59dc5d508",
   "metadata": {},
   "source": [
    "<h2> 4. Определение матрицы рейтингов с использованием SVD </h2>\r\n",
    "Задание состоит в заполнении нулевых значений в матрице rating с использованием метода сингулярного разложения (SVD).\r\n",
    "\r\n",
    "Исходная матрица rating представляет собой двумерный массив, содержащий оценки пользователей для определенных объектов. Однако в некоторых ячейках матрицы отсутствуют значения, обозначенные нулями.\r\n",
    "\r\n",
    "Для заполнения этих нулевых значений используйте метод SVD — метод разложения матрицы на три составляющих: матрицу левых сингулярных векторов (U), матрицу сингулярных значений (S) и матрицу правых сингулярных векторов (V).\r\n",
    "\r\n",
    "В результате выполнения программы будет получена матрица rating_prediction, в которой нулевые значения будут заменены предсказанными значениями с использованием SVD."
   ]
  },
  {
   "cell_type": "code",
   "execution_count": 9,
   "id": "b2905986-17c6-43dc-ba38-709bffe285c5",
   "metadata": {},
   "outputs": [
    {
     "data": {
      "text/plain": [
       "array([[ 1.3183674 ,  0.6341322 , -0.76682067,  1.95292953],\n",
       "       [ 0.25769658,  1.34955709,  0.94417223,  1.73267927],\n",
       "       [ 1.84666953,  2.40446815,  0.27938119,  4.4068027 ],\n",
       "       [ 0.95743862,  0.68557226, -0.35599688,  1.66633836],\n",
       "       [-0.79235923,  1.62553782,  2.25215506,  1.0381396 ]])"
      ]
     },
     "execution_count": 9,
     "metadata": {},
     "output_type": "execute_result"
    }
   ],
   "source": [
    "import numpy as np\n",
    "from scipy.sparse.linalg import svds\n",
    "\n",
    "\n",
    "ratings = np.array([[3, 1, 0, 1],\n",
    "               \t[0, 3, 0, 1],\n",
    "               \t[1, 2, 0, 5],\n",
    "               \t[1, 0, 0, 2],\n",
    "               \t[0, 1, 3, 1]]).astype(float)\n",
    "\n",
    "#Далее запишите ваш код\n",
    "U, S, Vt = svds(ratings, k=2)\n",
    "S_diag = np.diag(S)\n",
    "rating_prediction = np.dot(np.dot(U, S_diag), Vt)\n",
    "rating_prediction"
   ]
  },
  {
   "cell_type": "markdown",
   "id": "960db5bd-0832-40c1-818d-3988bf9f00db",
   "metadata": {},
   "source": [
    "<h2> 5. Применение фильтра к изображению </h2>\r\n",
    "Напишите программу, которая создает фильтр для изображения. Входные данные — изображение в виде матрицы image, где каждый элемент представляет собой пиксель изображения. \r\n",
    "\r\n",
    "Ваша задача — применить фильтр filter к изображению и выдать результат в виде новой матрицы feature_map."
   ]
  },
  {
   "cell_type": "code",
   "execution_count": 10,
   "id": "be8282a7-81ae-47ec-8ae4-f9c6b232ff4d",
   "metadata": {},
   "outputs": [
    {
     "name": "stdout",
     "output_type": "stream",
     "text": [
      "[[ 4.  7. 11.]\n",
      " [ 6. 12.  9.]\n",
      " [ 7.  6. 19.]]\n"
     ]
    }
   ],
   "source": [
    "import numpy as np\n",
    "\n",
    "image = np.array([[1, 2, 1, 1, 3],\n",
    "              \t  [0, 1, 2, 3, 4],\n",
    "              \t  [0, 0, 1, 2, 3],\n",
    "              \t  [3, 2, 1, 5, 0],\n",
    "              \t  [1, 2, 3, 1, 7]])\n",
    "\n",
    "filter = np.array([[1, 0, 1],\n",
    "               \t  [0, 1, 0],\n",
    "               \t  [1, 0, 1]])\n",
    "\n",
    "#Далее запишите ваш код\n",
    "feature_map = np.zeros((3, 3))\n",
    "for i in range(3):\n",
    "    for j in range(3):\n",
    "        feature_map[i][j] = np.sum(image[i:i+3, j:j+3] * filter)\n",
    "print(feature_map)"
   ]
  }
 ],
 "metadata": {
  "kernelspec": {
   "display_name": "Python 3 (ipykernel)",
   "language": "python",
   "name": "python3"
  },
  "language_info": {
   "codemirror_mode": {
    "name": "ipython",
    "version": 3
   },
   "file_extension": ".py",
   "mimetype": "text/x-python",
   "name": "python",
   "nbconvert_exporter": "python",
   "pygments_lexer": "ipython3",
   "version": "3.11.7"
  }
 },
 "nbformat": 4,
 "nbformat_minor": 5
}
