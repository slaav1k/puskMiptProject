{
 "cells": [
  {
   "cell_type": "markdown",
   "id": "a6cb6e99-5781-41eb-9e9e-be4a1a59e083",
   "metadata": {},
   "source": [
    "1.\tСоздайте Python-ноутбук, загрузите в него данные из csv-файла и преобразуйте в массив NumPy. Либо сгенерируйте массив самостоятельно."
   ]
  },
  {
   "cell_type": "code",
   "execution_count": 4,
   "id": "c9ffa5f4-5444-44f8-81bd-ee8958122a8d",
   "metadata": {},
   "outputs": [
    {
     "data": {
      "text/plain": [
       "array([[0.3114453 , 0.72660084, 0.40811057],\n",
       "       [0.96669837, 0.83677685, 0.43184853],\n",
       "       [0.37596517, 0.95767491, 0.73644838],\n",
       "       [0.77949772, 0.75141413, 0.83616898],\n",
       "       [0.88959052, 0.50800252, 0.15807114]])"
      ]
     },
     "execution_count": 4,
     "metadata": {},
     "output_type": "execute_result"
    }
   ],
   "source": [
    "import numpy as np\n",
    "\n",
    "data = np.random.rand(5, 3)\n",
    "data"
   ]
  },
  {
   "cell_type": "markdown",
   "id": "aac26853-154f-45e2-b067-40ea93bca969",
   "metadata": {},
   "source": [
    "2.\tПолучите атрибуты массива — число измерений, размеры массива, количество элементов, тип данных элементов."
   ]
  },
  {
   "cell_type": "code",
   "execution_count": 6,
   "id": "2be66f34-8740-4cf2-a812-ddc6275cd90e",
   "metadata": {},
   "outputs": [
    {
     "name": "stdout",
     "output_type": "stream",
     "text": [
      "Число измерений: 2\n",
      "Размеры массива: (5, 3)\n",
      "Количество элементов: 15\n",
      "Тип данных элементов: float64\n"
     ]
    }
   ],
   "source": [
    "print(\"Число измерений:\", data.ndim)\n",
    "print(\"Размеры массива:\", data.shape)\n",
    "print(\"Количество элементов:\", data.size)\n",
    "print(\"Тип данных элементов:\", data.dtype)\n",
    "\n",
    "# data.ndim\n",
    "# data.shape\n",
    "# data.size\n",
    "# data.dtype"
   ]
  },
  {
   "cell_type": "markdown",
   "id": "c146c458-faf4-4b62-bcb0-e614744432c1",
   "metadata": {},
   "source": [
    "3.\tПотренируйтесь в выборке элемента по индексу и выполнении срезов данных массива."
   ]
  },
  {
   "cell_type": "code",
   "execution_count": 10,
   "id": "5439bc65-a803-41c8-b50b-b6c3412253e8",
   "metadata": {},
   "outputs": [
    {
     "name": "stdout",
     "output_type": "stream",
     "text": [
      "Элемент: 0.7266008433290184\n",
      "Срез: [0.72660084 0.83677685 0.95767491 0.75141413 0.50800252]\n",
      "Срез: [0.96669837 0.83677685]\n"
     ]
    }
   ],
   "source": [
    "# Доступ к элементу\n",
    "element = data[0, 1]  # Первый ряд, второй элемент\n",
    "print(\"Элемент:\", element)\n",
    "\n",
    "# Срез данных\n",
    "slice_data = data[:, 1]  # Все ряды, второй столбец\n",
    "print(\"Срез:\", slice_data)\n",
    "\n",
    "slice_data_2 = data[1, :2]  # Ряд второй, первый-второй столбец\n",
    "print(\"Срез:\", slice_data_2)"
   ]
  },
  {
   "cell_type": "markdown",
   "id": "d4220ff9-bc4b-434a-a12f-3cf008642678",
   "metadata": {},
   "source": [
    "а.\r\n",
    "\r\n",
    "4.\tПотренируйтесь в выполнении математических и статистических функций библиотеки NumPy — найдите сумму элементов, среднее значение, медиану, отклонение от среднего и другие показатели, которые считаете полезными при анализе исходного массива."
   ]
  },
  {
   "cell_type": "code",
   "execution_count": 11,
   "id": "4e2197ff-544d-4f3e-97e9-de57eb0c11f8",
   "metadata": {},
   "outputs": [
    {
     "name": "stdout",
     "output_type": "stream",
     "text": [
      "Сумма элементов: 9.674313929593177\n",
      "Среднее значение: 0.6449542619728785\n",
      "Медиана: 0.7364483784989497\n",
      "Стандартное отклонение: 0.2476416273163771\n"
     ]
    }
   ],
   "source": [
    "sum_data = np.sum(data)\n",
    "mean_data = np.mean(data)\n",
    "median_data = np.median(data)\n",
    "std_data = np.std(data)\n",
    "\n",
    "print(\"Сумма элементов:\", sum_data)\n",
    "print(\"Среднее значение:\", mean_data)\n",
    "print(\"Медиана:\", median_data)\n",
    "print(\"Стандартное отклонение:\", std_data)"
   ]
  },
  {
   "cell_type": "markdown",
   "id": "faed9539-15ba-474d-88c5-49ca74c6dba7",
   "metadata": {},
   "source": [
    "Выводы.\n",
    "1. Можем быстро сделать числовой массив (н-мерный), так же можем загрузить его из таблички.\n",
    "2. Можно получить по простым командам, все основную информацию о нашей матрице.\n",
    "3. Можно \"покрутить данными\", делать срезы (и по столбцам тоже!), выбирать конкретные элементы.\n",
    "4. Есть базовые встроенные функции, которые используюся повсеместно. Удобно!"
   ]
  }
 ],
 "metadata": {
  "kernelspec": {
   "display_name": "Python 3 (ipykernel)",
   "language": "python",
   "name": "python3"
  },
  "language_info": {
   "codemirror_mode": {
    "name": "ipython",
    "version": 3
   },
   "file_extension": ".py",
   "mimetype": "text/x-python",
   "name": "python",
   "nbconvert_exporter": "python",
   "pygments_lexer": "ipython3",
   "version": "3.11.7"
  }
 },
 "nbformat": 4,
 "nbformat_minor": 5
}
